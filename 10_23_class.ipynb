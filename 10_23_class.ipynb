{
 "cells": [
  {
   "cell_type": "code",
   "execution_count": 73,
   "metadata": {},
   "outputs": [
    {
     "data": {
      "text/plain": [
       "b'hello'"
      ]
     },
     "execution_count": 73,
     "metadata": {},
     "output_type": "execute_result"
    }
   ],
   "source": [
    "import numpy as np\n",
    "import tensorflow as tf\n",
    "hello = tf.constant(\"hello\")\n",
    "sess=tf.Session()\n",
    "sess.run(hello)"
   ]
  },
  {
   "cell_type": "code",
   "execution_count": 75,
   "metadata": {},
   "outputs": [
    {
     "data": {
      "text/plain": [
       "5"
      ]
     },
     "execution_count": 75,
     "metadata": {},
     "output_type": "execute_result"
    }
   ],
   "source": [
    "b=tf.constant(2)\n",
    "c=tf.constant(3)\n",
    "sess.run(b+c)"
   ]
  },
  {
   "cell_type": "code",
   "execution_count": 76,
   "metadata": {},
   "outputs": [
    {
     "data": {
      "text/plain": [
       "array([[10, 10, 10, 10],\n",
       "       [10, 10, 10, 10],\n",
       "       [10, 10, 10, 10],\n",
       "       [10, 10, 10, 10]])"
      ]
     },
     "execution_count": 76,
     "metadata": {},
     "output_type": "execute_result"
    }
   ],
   "source": [
    "a=tf.fill((4,4),10)\n",
    "sess.run(a)"
   ]
  },
  {
   "cell_type": "code",
   "execution_count": 77,
   "metadata": {},
   "outputs": [
    {
     "data": {
      "text/plain": [
       "array([[0., 0., 0., 0.],\n",
       "       [0., 0., 0., 0.],\n",
       "       [0., 0., 0., 0.],\n",
       "       [0., 0., 0., 0.]], dtype=float32)"
      ]
     },
     "execution_count": 77,
     "metadata": {},
     "output_type": "execute_result"
    }
   ],
   "source": [
    "b=tf.zeros((4,4))\n",
    "sess.run(b)"
   ]
  },
  {
   "cell_type": "code",
   "execution_count": 78,
   "metadata": {
    "scrolled": true
   },
   "outputs": [
    {
     "data": {
      "text/plain": [
       "array([[ 0.15704668,  1.2913456 ,  0.52604604, -0.8073785 ],\n",
       "       [ 2.0979626 , -0.34378424, -0.7012611 ,  0.13976316],\n",
       "       [-1.0697799 ,  1.4979333 , -0.45017287, -0.14374109],\n",
       "       [-0.04185444, -0.22146751, -1.3225644 , -0.41677925]],\n",
       "      dtype=float32)"
      ]
     },
     "execution_count": 78,
     "metadata": {},
     "output_type": "execute_result"
    }
   ],
   "source": [
    "c = tf.random_normal((4,4),mean=0,stddev=1.0)\n",
    "sess.run(c)"
   ]
  },
  {
   "cell_type": "code",
   "execution_count": 79,
   "metadata": {},
   "outputs": [
    {
     "name": "stdout",
     "output_type": "stream",
     "text": [
      "[array([[10, 10, 10, 10],\n",
      "       [10, 10, 10, 10],\n",
      "       [10, 10, 10, 10],\n",
      "       [10, 10, 10, 10]]), array([[0., 0., 0., 0.],\n",
      "       [0., 0., 0., 0.],\n",
      "       [0., 0., 0., 0.],\n",
      "       [0., 0., 0., 0.]], dtype=float32), array([[ 0.9557841 , -1.2041285 ,  0.05449503, -1.6244951 ],\n",
      "       [-0.2089426 , -0.66044974,  0.729067  , -0.789374  ],\n",
      "       [-0.09868968,  1.2844931 , -1.5799814 , -0.5044007 ],\n",
      "       [ 0.47558385,  2.2665915 ,  0.63712656,  1.2261355 ]],\n",
      "      dtype=float32)]\n",
      "[array([[10, 10, 10, 10],\n",
      "       [10, 10, 10, 10],\n",
      "       [10, 10, 10, 10],\n",
      "       [10, 10, 10, 10]]), array([[0., 0., 0., 0.],\n",
      "       [0., 0., 0., 0.],\n",
      "       [0., 0., 0., 0.],\n",
      "       [0., 0., 0., 0.]], dtype=float32), array([[-0.11904776, -0.79711604,  1.4746444 ,  1.2634126 ],\n",
      "       [-1.4593079 ,  1.3020544 , -1.4570735 , -0.86593384],\n",
      "       [-1.5702055 ,  1.5023677 , -0.79513043, -0.16883127],\n",
      "       [ 0.02481228, -0.34080774, -1.1266228 ,  0.9993658 ]],\n",
      "      dtype=float32)]\n",
      "[array([[10, 10, 10, 10],\n",
      "       [10, 10, 10, 10],\n",
      "       [10, 10, 10, 10],\n",
      "       [10, 10, 10, 10]]), array([[0., 0., 0., 0.],\n",
      "       [0., 0., 0., 0.],\n",
      "       [0., 0., 0., 0.],\n",
      "       [0., 0., 0., 0.]], dtype=float32), array([[-1.235926  , -0.06969368, -1.4328259 ,  0.28140694],\n",
      "       [ 0.74906695,  0.2949569 , -0.14179954,  1.2205111 ],\n",
      "       [ 1.1801533 , -0.34418997,  0.36687535,  0.6186873 ],\n",
      "       [ 1.1685102 ,  0.7773574 , -1.238003  ,  0.00506858]],\n",
      "      dtype=float32)]\n"
     ]
    }
   ],
   "source": [
    "my_ops = [a,b,c]\n",
    "for op in my_ops:\n",
    "    print(sess.run(my_ops))"
   ]
  },
  {
   "cell_type": "code",
   "execution_count": 80,
   "metadata": {},
   "outputs": [
    {
     "data": {
      "text/plain": [
       "array([[210],\n",
       "       [430]])"
      ]
     },
     "execution_count": 80,
     "metadata": {},
     "output_type": "execute_result"
    }
   ],
   "source": [
    "a=tf.constant([[1,2],[3,4]])\n",
    "b=tf.constant([[10],[100]])\n",
    "result=tf.matmul(a,b) #행렬곱\n",
    "sees.run(result)"
   ]
  },
  {
   "cell_type": "markdown",
   "metadata": {},
   "source": [
    "### Variable : W & Placeholder : input(X)\n",
    "### Place holder : empty --> feed during training (declare)\n",
    "### Variables : tuned during training\n",
    "### -initialized f(x) R: optim(f,par=0.19)"
   ]
  },
  {
   "cell_type": "code",
   "execution_count": 81,
   "metadata": {},
   "outputs": [
    {
     "data": {
      "text/plain": [
       "array([[0.6329076 , 0.9098544 , 0.89283776, 0.8442123 ],\n",
       "       [0.4769653 , 0.08251822, 0.546054  , 0.44907856],\n",
       "       [0.7387605 , 0.91986656, 0.9749931 , 0.55533886],\n",
       "       [0.90343916, 0.8040006 , 0.75762784, 0.21497703]], dtype=float32)"
      ]
     },
     "execution_count": 81,
     "metadata": {},
     "output_type": "execute_result"
    }
   ],
   "source": [
    "my_temp = tf.random_uniform((4,4),0,1)\n",
    "sess.run(my_temp)"
   ]
  },
  {
   "cell_type": "code",
   "execution_count": 82,
   "metadata": {
    "scrolled": true
   },
   "outputs": [
    {
     "ename": "FailedPreconditionError",
     "evalue": "Attempting to use uninitialized value Variable_14\n\t [[Node: _retval_Variable_14_0_0 = _Retval[T=DT_FLOAT, index=0, _device=\"/job:localhost/replica:0/task:0/device:CPU:0\"](Variable_14)]]",
     "output_type": "error",
     "traceback": [
      "\u001b[1;31m---------------------------------------------------------------------------\u001b[0m",
      "\u001b[1;31mFailedPreconditionError\u001b[0m                   Traceback (most recent call last)",
      "\u001b[1;32m~\\Anaconda3\\lib\\site-packages\\tensorflow\\python\\client\\session.py\u001b[0m in \u001b[0;36m_do_call\u001b[1;34m(self, fn, *args)\u001b[0m\n\u001b[0;32m   1277\u001b[0m     \u001b[1;32mtry\u001b[0m\u001b[1;33m:\u001b[0m\u001b[1;33m\u001b[0m\u001b[0m\n\u001b[1;32m-> 1278\u001b[1;33m       \u001b[1;32mreturn\u001b[0m \u001b[0mfn\u001b[0m\u001b[1;33m(\u001b[0m\u001b[1;33m*\u001b[0m\u001b[0margs\u001b[0m\u001b[1;33m)\u001b[0m\u001b[1;33m\u001b[0m\u001b[0m\n\u001b[0m\u001b[0;32m   1279\u001b[0m     \u001b[1;32mexcept\u001b[0m \u001b[0merrors\u001b[0m\u001b[1;33m.\u001b[0m\u001b[0mOpError\u001b[0m \u001b[1;32mas\u001b[0m \u001b[0me\u001b[0m\u001b[1;33m:\u001b[0m\u001b[1;33m\u001b[0m\u001b[0m\n",
      "\u001b[1;32m~\\Anaconda3\\lib\\site-packages\\tensorflow\\python\\client\\session.py\u001b[0m in \u001b[0;36m_run_fn\u001b[1;34m(feed_dict, fetch_list, target_list, options, run_metadata)\u001b[0m\n\u001b[0;32m   1262\u001b[0m       return self._call_tf_sessionrun(\n\u001b[1;32m-> 1263\u001b[1;33m           options, feed_dict, fetch_list, target_list, run_metadata)\n\u001b[0m\u001b[0;32m   1264\u001b[0m \u001b[1;33m\u001b[0m\u001b[0m\n",
      "\u001b[1;32m~\\Anaconda3\\lib\\site-packages\\tensorflow\\python\\client\\session.py\u001b[0m in \u001b[0;36m_call_tf_sessionrun\u001b[1;34m(self, options, feed_dict, fetch_list, target_list, run_metadata)\u001b[0m\n\u001b[0;32m   1349\u001b[0m         \u001b[0mself\u001b[0m\u001b[1;33m.\u001b[0m\u001b[0m_session\u001b[0m\u001b[1;33m,\u001b[0m \u001b[0moptions\u001b[0m\u001b[1;33m,\u001b[0m \u001b[0mfeed_dict\u001b[0m\u001b[1;33m,\u001b[0m \u001b[0mfetch_list\u001b[0m\u001b[1;33m,\u001b[0m \u001b[0mtarget_list\u001b[0m\u001b[1;33m,\u001b[0m\u001b[1;33m\u001b[0m\u001b[0m\n\u001b[1;32m-> 1350\u001b[1;33m         run_metadata)\n\u001b[0m\u001b[0;32m   1351\u001b[0m \u001b[1;33m\u001b[0m\u001b[0m\n",
      "\u001b[1;31mFailedPreconditionError\u001b[0m: Attempting to use uninitialized value Variable_14\n\t [[Node: _retval_Variable_14_0_0 = _Retval[T=DT_FLOAT, index=0, _device=\"/job:localhost/replica:0/task:0/device:CPU:0\"](Variable_14)]]",
      "\nDuring handling of the above exception, another exception occurred:\n",
      "\u001b[1;31mFailedPreconditionError\u001b[0m                   Traceback (most recent call last)",
      "\u001b[1;32m<ipython-input-82-7a3ccb195e82>\u001b[0m in \u001b[0;36m<module>\u001b[1;34m()\u001b[0m\n\u001b[0;32m      2\u001b[0m \u001b[0mmy_var\u001b[0m \u001b[1;33m=\u001b[0m \u001b[0mtf\u001b[0m\u001b[1;33m.\u001b[0m\u001b[0mVariable\u001b[0m\u001b[1;33m(\u001b[0m\u001b[0minitial_value\u001b[0m\u001b[1;33m=\u001b[0m\u001b[0mmy_temp\u001b[0m\u001b[1;33m)\u001b[0m\u001b[1;33m\u001b[0m\u001b[0m\n\u001b[0;32m      3\u001b[0m \u001b[0msess\u001b[0m\u001b[1;33m.\u001b[0m\u001b[0mrun\u001b[0m\u001b[1;33m(\u001b[0m\u001b[0minit\u001b[0m\u001b[1;33m)\u001b[0m\u001b[1;33m\u001b[0m\u001b[0m\n\u001b[1;32m----> 4\u001b[1;33m \u001b[0msess\u001b[0m\u001b[1;33m.\u001b[0m\u001b[0mrun\u001b[0m\u001b[1;33m(\u001b[0m\u001b[0mmy_var\u001b[0m\u001b[1;33m)\u001b[0m\u001b[1;33m\u001b[0m\u001b[0m\n\u001b[0m",
      "\u001b[1;32m~\\Anaconda3\\lib\\site-packages\\tensorflow\\python\\client\\session.py\u001b[0m in \u001b[0;36mrun\u001b[1;34m(self, fetches, feed_dict, options, run_metadata)\u001b[0m\n\u001b[0;32m    875\u001b[0m     \u001b[1;32mtry\u001b[0m\u001b[1;33m:\u001b[0m\u001b[1;33m\u001b[0m\u001b[0m\n\u001b[0;32m    876\u001b[0m       result = self._run(None, fetches, feed_dict, options_ptr,\n\u001b[1;32m--> 877\u001b[1;33m                          run_metadata_ptr)\n\u001b[0m\u001b[0;32m    878\u001b[0m       \u001b[1;32mif\u001b[0m \u001b[0mrun_metadata\u001b[0m\u001b[1;33m:\u001b[0m\u001b[1;33m\u001b[0m\u001b[0m\n\u001b[0;32m    879\u001b[0m         \u001b[0mproto_data\u001b[0m \u001b[1;33m=\u001b[0m \u001b[0mtf_session\u001b[0m\u001b[1;33m.\u001b[0m\u001b[0mTF_GetBuffer\u001b[0m\u001b[1;33m(\u001b[0m\u001b[0mrun_metadata_ptr\u001b[0m\u001b[1;33m)\u001b[0m\u001b[1;33m\u001b[0m\u001b[0m\n",
      "\u001b[1;32m~\\Anaconda3\\lib\\site-packages\\tensorflow\\python\\client\\session.py\u001b[0m in \u001b[0;36m_run\u001b[1;34m(self, handle, fetches, feed_dict, options, run_metadata)\u001b[0m\n\u001b[0;32m   1098\u001b[0m     \u001b[1;32mif\u001b[0m \u001b[0mfinal_fetches\u001b[0m \u001b[1;32mor\u001b[0m \u001b[0mfinal_targets\u001b[0m \u001b[1;32mor\u001b[0m \u001b[1;33m(\u001b[0m\u001b[0mhandle\u001b[0m \u001b[1;32mand\u001b[0m \u001b[0mfeed_dict_tensor\u001b[0m\u001b[1;33m)\u001b[0m\u001b[1;33m:\u001b[0m\u001b[1;33m\u001b[0m\u001b[0m\n\u001b[0;32m   1099\u001b[0m       results = self._do_run(handle, final_targets, final_fetches,\n\u001b[1;32m-> 1100\u001b[1;33m                              feed_dict_tensor, options, run_metadata)\n\u001b[0m\u001b[0;32m   1101\u001b[0m     \u001b[1;32melse\u001b[0m\u001b[1;33m:\u001b[0m\u001b[1;33m\u001b[0m\u001b[0m\n\u001b[0;32m   1102\u001b[0m       \u001b[0mresults\u001b[0m \u001b[1;33m=\u001b[0m \u001b[1;33m[\u001b[0m\u001b[1;33m]\u001b[0m\u001b[1;33m\u001b[0m\u001b[0m\n",
      "\u001b[1;32m~\\Anaconda3\\lib\\site-packages\\tensorflow\\python\\client\\session.py\u001b[0m in \u001b[0;36m_do_run\u001b[1;34m(self, handle, target_list, fetch_list, feed_dict, options, run_metadata)\u001b[0m\n\u001b[0;32m   1270\u001b[0m     \u001b[1;32mif\u001b[0m \u001b[0mhandle\u001b[0m \u001b[1;32mis\u001b[0m \u001b[1;32mNone\u001b[0m\u001b[1;33m:\u001b[0m\u001b[1;33m\u001b[0m\u001b[0m\n\u001b[0;32m   1271\u001b[0m       return self._do_call(_run_fn, feeds, fetches, targets, options,\n\u001b[1;32m-> 1272\u001b[1;33m                            run_metadata)\n\u001b[0m\u001b[0;32m   1273\u001b[0m     \u001b[1;32melse\u001b[0m\u001b[1;33m:\u001b[0m\u001b[1;33m\u001b[0m\u001b[0m\n\u001b[0;32m   1274\u001b[0m       \u001b[1;32mreturn\u001b[0m \u001b[0mself\u001b[0m\u001b[1;33m.\u001b[0m\u001b[0m_do_call\u001b[0m\u001b[1;33m(\u001b[0m\u001b[0m_prun_fn\u001b[0m\u001b[1;33m,\u001b[0m \u001b[0mhandle\u001b[0m\u001b[1;33m,\u001b[0m \u001b[0mfeeds\u001b[0m\u001b[1;33m,\u001b[0m \u001b[0mfetches\u001b[0m\u001b[1;33m)\u001b[0m\u001b[1;33m\u001b[0m\u001b[0m\n",
      "\u001b[1;32m~\\Anaconda3\\lib\\site-packages\\tensorflow\\python\\client\\session.py\u001b[0m in \u001b[0;36m_do_call\u001b[1;34m(self, fn, *args)\u001b[0m\n\u001b[0;32m   1289\u001b[0m         \u001b[1;32mexcept\u001b[0m \u001b[0mKeyError\u001b[0m\u001b[1;33m:\u001b[0m\u001b[1;33m\u001b[0m\u001b[0m\n\u001b[0;32m   1290\u001b[0m           \u001b[1;32mpass\u001b[0m\u001b[1;33m\u001b[0m\u001b[0m\n\u001b[1;32m-> 1291\u001b[1;33m       \u001b[1;32mraise\u001b[0m \u001b[0mtype\u001b[0m\u001b[1;33m(\u001b[0m\u001b[0me\u001b[0m\u001b[1;33m)\u001b[0m\u001b[1;33m(\u001b[0m\u001b[0mnode_def\u001b[0m\u001b[1;33m,\u001b[0m \u001b[0mop\u001b[0m\u001b[1;33m,\u001b[0m \u001b[0mmessage\u001b[0m\u001b[1;33m)\u001b[0m\u001b[1;33m\u001b[0m\u001b[0m\n\u001b[0m\u001b[0;32m   1292\u001b[0m \u001b[1;33m\u001b[0m\u001b[0m\n\u001b[0;32m   1293\u001b[0m   \u001b[1;32mdef\u001b[0m \u001b[0m_extend_graph\u001b[0m\u001b[1;33m(\u001b[0m\u001b[0mself\u001b[0m\u001b[1;33m)\u001b[0m\u001b[1;33m:\u001b[0m\u001b[1;33m\u001b[0m\u001b[0m\n",
      "\u001b[1;31mFailedPreconditionError\u001b[0m: Attempting to use uninitialized value Variable_14\n\t [[Node: _retval_Variable_14_0_0 = _Retval[T=DT_FLOAT, index=0, _device=\"/job:localhost/replica:0/task:0/device:CPU:0\"](Variable_14)]]"
     ]
    }
   ],
   "source": [
    "init = tf.global_variables_initializer()\n",
    "my_var = tf.Variable(initial_value=my_temp)\n",
    "sess.run(init)\n",
    "sess.run(my_var)"
   ]
  },
  {
   "cell_type": "code",
   "execution_count": 83,
   "metadata": {},
   "outputs": [
    {
     "data": {
      "text/plain": [
       "30.0"
      ]
     },
     "execution_count": 83,
     "metadata": {},
     "output_type": "execute_result"
    }
   ],
   "source": [
    "a=tf.placeholder(tf.float32)\n",
    "b=tf.placeholder(tf.float32)\n",
    "c=a+b\n",
    "sess.run(c,feed_dict={ a:10,b:20 })"
   ]
  },
  {
   "cell_type": "code",
   "execution_count": 84,
   "metadata": {},
   "outputs": [
    {
     "data": {
      "text/plain": [
       "array([[-0.26053299,  0.69162094],\n",
       "       [ 1.0161747 , -0.22314222],\n",
       "       [ 0.38688827, -0.79306207],\n",
       "       [ 2.28419362,  0.12209603],\n",
       "       [ 1.51407887, -0.34585191],\n",
       "       [ 1.24766866, -0.01851182],\n",
       "       [ 0.17222467, -0.04225027],\n",
       "       [ 0.66077694,  1.12847421],\n",
       "       [ 1.09075728,  0.36738377],\n",
       "       [ 0.56412431, -0.25891642],\n",
       "       [ 0.7055693 , -0.85802813],\n",
       "       [-0.04070557,  0.2869584 ],\n",
       "       [ 2.21301183,  0.95306597],\n",
       "       [-0.7892479 ,  0.67934115],\n",
       "       [ 1.81818268, -0.37494142],\n",
       "       [-0.01891752,  1.34536445],\n",
       "       [ 0.15472091,  0.07160643],\n",
       "       [ 2.01350602,  0.01683872],\n",
       "       [-0.19974513,  0.91786498],\n",
       "       [-0.85218719,  0.47451314],\n",
       "       [ 1.19531262, -0.56752161],\n",
       "       [-0.5553985 ,  0.71265248],\n",
       "       [ 1.03556966,  0.42061084],\n",
       "       [ 1.36052405, -0.18969125],\n",
       "       [ 0.89050518,  1.14220787],\n",
       "       [-0.72896509,  0.2602611 ],\n",
       "       [ 0.41265576,  0.35750268],\n",
       "       [ 0.0587372 ,  0.58337404],\n",
       "       [ 1.73832507, -0.49062688],\n",
       "       [-1.02417824,  0.31451404],\n",
       "       [-0.86472188,  0.19417498],\n",
       "       [ 1.3489368 , -0.34039011],\n",
       "       [ 0.56087048, -0.07113002],\n",
       "       [ 1.36092358,  0.55115963],\n",
       "       [-1.41208771, -0.2963261 ],\n",
       "       [-0.32476708,  1.31084016],\n",
       "       [ 0.3804631 ,  0.83580722],\n",
       "       [ 0.24279918,  0.82639109],\n",
       "       [-0.08475225,  0.81959311],\n",
       "       [-1.29232662,  0.06192115],\n",
       "       [-0.12633766,  0.66252146],\n",
       "       [ 0.80323327, -0.43757029],\n",
       "       [ 1.34474476,  0.1018328 ],\n",
       "       [-1.25208922,  0.73910685],\n",
       "       [-0.60877614,  0.94624662],\n",
       "       [ 1.00306967,  1.2280241 ],\n",
       "       [ 0.08400667, -0.53339646],\n",
       "       [ 0.79417782, -0.19147892],\n",
       "       [ 1.92075278,  0.55828333],\n",
       "       [ 0.44676091,  0.28133016],\n",
       "       [ 0.79919079,  0.43822576],\n",
       "       [ 2.13322449, -0.42630318],\n",
       "       [ 0.46592406,  0.92114983],\n",
       "       [ 1.53188759, -0.54198889],\n",
       "       [ 1.14442017, -0.29860019],\n",
       "       [-0.58775642,  0.51108795],\n",
       "       [-0.87102136,  0.24877556],\n",
       "       [-0.54109779,  0.7021652 ],\n",
       "       [ 0.60075653, -0.82999019],\n",
       "       [ 1.55377668,  0.28341352],\n",
       "       [ 2.05985957, -0.422983  ],\n",
       "       [ 0.24882139,  0.73979994],\n",
       "       [ 2.25933869,  0.10478121],\n",
       "       [ 0.81635402, -0.86223563],\n",
       "       [ 2.15819386,  0.56781001],\n",
       "       [-0.08553115,  1.17948534],\n",
       "       [ 0.32263679,  0.79614145],\n",
       "       [-0.01901833, -0.04211827],\n",
       "       [ 0.4507729 ,  0.80643872],\n",
       "       [ 0.55045175, -0.80580834],\n",
       "       [ 1.10116613, -0.38895506],\n",
       "       [-0.58471666,  0.45878193],\n",
       "       [ 1.07305307, -0.2991668 ],\n",
       "       [ 1.1506672 , -0.97787633],\n",
       "       [-0.06531364,  0.40955912],\n",
       "       [ 2.06435564, -0.36707136],\n",
       "       [ 0.75656203, -0.45336188],\n",
       "       [ 1.45688184, -0.2432053 ],\n",
       "       [-0.13958637,  0.9458797 ],\n",
       "       [ 0.78132549,  0.90654834],\n",
       "       [-0.96238338,  0.52722012],\n",
       "       [ 0.57826668, -0.06733889],\n",
       "       [ 1.63708976,  0.2679081 ],\n",
       "       [-0.81944561,  0.3770487 ],\n",
       "       [-0.00372037, -0.16193682],\n",
       "       [ 1.68645031,  0.18258227],\n",
       "       [-0.33412897,  0.5233817 ],\n",
       "       [ 0.48761669,  0.97116802],\n",
       "       [ 0.4824683 , -0.33733047],\n",
       "       [-0.90311848,  0.96110859],\n",
       "       [ 0.34709783,  0.28943831],\n",
       "       [-0.03644717,  0.65645793],\n",
       "       [ 0.60664531, -0.0729196 ],\n",
       "       [ 1.55789563, -0.34749055],\n",
       "       [ 0.94743926,  0.98928195],\n",
       "       [ 0.01575081,  0.8052915 ],\n",
       "       [ 1.12698321,  0.28831893],\n",
       "       [-0.50949948,  0.62264138],\n",
       "       [-0.27148077,  1.05214001],\n",
       "       [ 0.49348951, -0.68740347],\n",
       "       [ 0.58740614,  0.49733482],\n",
       "       [ 0.05964839, -0.97897617],\n",
       "       [ 0.88524705,  0.66659363],\n",
       "       [ 2.12414493,  0.67472559],\n",
       "       [-0.50615688,  0.7788247 ],\n",
       "       [-0.08777777, -0.16503043],\n",
       "       [ 2.62954666, -0.25920197],\n",
       "       [-0.68972079,  0.597399  ],\n",
       "       [ 1.06612036, -0.09145682],\n",
       "       [-0.83799128,  0.4523437 ],\n",
       "       [ 0.57970656, -0.22469652],\n",
       "       [-0.63921406,  0.64100694],\n",
       "       [ 0.72512738,  0.65457437],\n",
       "       [-0.2998844 ,  0.5552336 ],\n",
       "       [ 0.95721874, -0.75981271],\n",
       "       [ 0.05411204,  0.37281277],\n",
       "       [-0.72081868,  0.21421987],\n",
       "       [ 1.2798233 ,  0.19216246],\n",
       "       [ 1.80099947, -0.29979714],\n",
       "       [ 0.90550281,  0.63482104],\n",
       "       [-0.22580087, -0.26229423],\n",
       "       [ 1.00440775,  1.05714465],\n",
       "       [ 0.41518934,  0.82671927],\n",
       "       [ 0.85197263,  0.53455894],\n",
       "       [ 0.33181597,  1.22547864],\n",
       "       [ 0.30189582, -0.313261  ],\n",
       "       [ 0.26655569, -0.04409595],\n",
       "       [-0.70446515,  0.34928533],\n",
       "       [-0.06783488, -0.28330176],\n",
       "       [ 0.7839689 ,  0.69225973],\n",
       "       [-0.88715245,  0.4030578 ],\n",
       "       [ 0.16053689,  0.7268429 ],\n",
       "       [ 1.90614644,  0.43384185],\n",
       "       [ 2.2190713 ,  0.54460481],\n",
       "       [-0.65796062,  0.96960967],\n",
       "       [ 2.63306991,  1.01145316],\n",
       "       [-0.87268595, -0.49576934],\n",
       "       [ 1.43590978,  0.1424752 ],\n",
       "       [ 0.80429706, -0.88832003],\n",
       "       [ 0.62376889, -0.7638674 ],\n",
       "       [ 0.55088436, -0.05632063],\n",
       "       [ 1.68549266, -0.57225919],\n",
       "       [ 1.05388013, -0.22469734],\n",
       "       [ 0.34552343,  0.74125675],\n",
       "       [-0.45358261,  1.39233595],\n",
       "       [ 0.82390401,  0.5758454 ],\n",
       "       [-0.42749482,  0.11413368],\n",
       "       [ 2.2766887 , -0.10803441],\n",
       "       [ 1.14861707, -0.76187673],\n",
       "       [-1.07345216,  0.89104769],\n",
       "       [ 0.17430597, -0.50835291],\n",
       "       [ 0.5180541 ,  0.84381944],\n",
       "       [ 0.98661674,  0.57442121],\n",
       "       [ 0.18073316,  1.09624604],\n",
       "       [-0.8461228 ,  0.87008301],\n",
       "       [ 0.2852487 ,  0.07007733],\n",
       "       [ 0.16544024,  0.42405438],\n",
       "       [ 0.16037624, -0.23676902],\n",
       "       [ 0.21717812,  0.21405422],\n",
       "       [ 0.21364621,  1.24464161],\n",
       "       [-0.63288855,  0.57236963],\n",
       "       [-0.22905425,  0.97029082],\n",
       "       [-1.02679065,  0.24809174],\n",
       "       [ 1.8700525 ,  0.62810109],\n",
       "       [-0.33913354,  0.94027807],\n",
       "       [ 1.32812806,  0.8326476 ],\n",
       "       [-0.45592284,  1.24139106],\n",
       "       [ 0.06522037, -0.89811949],\n",
       "       [ 0.52371148,  0.65259993],\n",
       "       [ 0.71751045,  0.67895051],\n",
       "       [ 1.97712886, -0.32202475],\n",
       "       [ 0.57519715, -0.12401087],\n",
       "       [ 0.42345826,  0.80503767],\n",
       "       [ 1.82432034,  0.33138824],\n",
       "       [ 0.68618571,  0.87954363],\n",
       "       [ 0.24643233,  1.10750067],\n",
       "       [ 0.7122112 , -0.28703891],\n",
       "       [-0.41446942,  1.36627692],\n",
       "       [ 1.66508498,  0.4660683 ],\n",
       "       [-0.35908017,  0.60770632],\n",
       "       [ 1.14603292, -0.41011374],\n",
       "       [-0.95700146,  0.12747357],\n",
       "       [ 1.56797017, -0.20825106],\n",
       "       [ 0.40505715, -0.4953161 ],\n",
       "       [-1.20851968,  0.01318157],\n",
       "       [ 1.52498709,  0.54730727],\n",
       "       [ 1.15286469, -0.00433004],\n",
       "       [ 2.08381424,  0.16390245],\n",
       "       [ 1.47136792,  0.74846191],\n",
       "       [ 1.8730278 ,  0.13559927],\n",
       "       [-0.56779858, -0.02276614],\n",
       "       [ 0.61939838,  0.31007348],\n",
       "       [ 1.05618868, -0.87739974],\n",
       "       [ 1.08796705, -0.25956171],\n",
       "       [-0.6364495 , -0.24318158],\n",
       "       [-0.94884743,  0.17985107],\n",
       "       [ 0.16557354,  0.08444542],\n",
       "       [ 1.27231548, -1.23555413],\n",
       "       [-0.19782125,  0.85568538],\n",
       "       [-0.2943274 ,  0.93645736],\n",
       "       [-0.33910193,  0.66284656],\n",
       "       [ 1.15355097, -0.04903769],\n",
       "       [ 2.24245647,  0.39133263],\n",
       "       [ 0.66999048,  1.26728323],\n",
       "       [ 0.3166925 , -0.42024077],\n",
       "       [ 0.23028632,  1.26787614],\n",
       "       [ 1.38602026, -0.65112707],\n",
       "       [ 2.07973182,  0.47081965],\n",
       "       [-0.39281865,  0.51069404],\n",
       "       [ 0.41037934, -0.09471577],\n",
       "       [-0.01186446,  0.67918313],\n",
       "       [ 0.90950483, -0.10894088],\n",
       "       [-0.64950771,  0.42434072],\n",
       "       [ 0.25750786,  1.49669795],\n",
       "       [ 0.49023298,  1.10130785],\n",
       "       [ 0.48712463, -0.46784667],\n",
       "       [-0.60371018,  0.20893607],\n",
       "       [ 1.80587259,  0.33684268],\n",
       "       [-0.20700467,  0.36632808],\n",
       "       [-0.85255032,  0.78187682],\n",
       "       [ 0.67058898,  0.51660928],\n",
       "       [-0.71267977,  0.60126836],\n",
       "       [ 0.85300105,  0.09741164],\n",
       "       [-0.31866046,  0.05914123],\n",
       "       [-0.3329886 ,  1.02370304],\n",
       "       [ 0.18497882,  0.51529461],\n",
       "       [ 1.68715042, -0.03239028],\n",
       "       [ 0.9853326 ,  0.16953247],\n",
       "       [-0.1075064 ,  0.67207777],\n",
       "       [ 1.13959642, -0.86489972],\n",
       "       [ 1.37633447, -0.15541291],\n",
       "       [ 0.47854543,  0.48762259],\n",
       "       [ 0.22691664,  0.02189271],\n",
       "       [ 0.39486217, -0.27536395],\n",
       "       [ 2.10359512, -0.49477734],\n",
       "       [-0.59203547,  0.75210999],\n",
       "       [ 1.79522405, -0.39917023],\n",
       "       [ 0.99300299,  0.35806025],\n",
       "       [ 0.87325381,  0.49358477],\n",
       "       [ 1.32845003, -0.220465  ],\n",
       "       [ 0.98042157,  1.26459612],\n",
       "       [ 0.4331765 , -0.46144852],\n",
       "       [ 0.04563986,  0.70906135],\n",
       "       [-0.76806492,  0.7214304 ],\n",
       "       [ 1.30166206,  0.19570299],\n",
       "       [ 0.15243576,  0.34850264],\n",
       "       [ 1.63022619, -0.19400143],\n",
       "       [ 0.04996344,  0.08534879],\n",
       "       [-0.51501425,  0.58518824],\n",
       "       [ 0.99796056, -0.52837434],\n",
       "       [ 1.14377066, -1.00563838],\n",
       "       [ 1.57693109, -0.66233982],\n",
       "       [ 0.10186907,  0.59058823],\n",
       "       [-1.02678312,  0.19729061],\n",
       "       [ 1.15047395,  0.79151694],\n",
       "       [ 0.29985591, -0.28974273],\n",
       "       [ 1.11794159, -0.32527534],\n",
       "       [ 0.69457615, -0.45652802],\n",
       "       [ 0.40752861,  0.98642532],\n",
       "       [-0.93875093,  0.04950499],\n",
       "       [ 1.46773001,  0.05856944],\n",
       "       [ 1.34377698, -0.38765729],\n",
       "       [ 0.23443222, -0.21032277],\n",
       "       [ 1.64471713, -0.5869074 ],\n",
       "       [-1.10321284, -0.51524442],\n",
       "       [ 1.23505182,  0.69905779],\n",
       "       [-0.09690539,  0.75883412],\n",
       "       [ 0.47313317, -0.05575611],\n",
       "       [ 1.07640118, -0.48199563],\n",
       "       [ 0.90962687,  0.66613821],\n",
       "       [ 1.02772931, -0.67964833],\n",
       "       [ 0.60579986,  0.03097429],\n",
       "       [ 2.44578689,  0.15516767],\n",
       "       [-0.55390392,  0.7583697 ],\n",
       "       [ 0.74804272,  0.57212792],\n",
       "       [-0.5431198 ,  0.59395743],\n",
       "       [-0.5032507 , -0.07483752],\n",
       "       [ 1.79549676, -0.33981989],\n",
       "       [ 0.41758773, -0.24320756],\n",
       "       [ 1.75548728,  0.20354297],\n",
       "       [ 0.24149786, -0.28077778],\n",
       "       [-0.92158488,  0.08874292],\n",
       "       [ 0.82736449,  0.73051451],\n",
       "       [-0.15740757,  0.33306675],\n",
       "       [-0.21023009,  0.30573647],\n",
       "       [ 0.70015746, -0.17837354],\n",
       "       [ 0.25947759,  0.45067652],\n",
       "       [ 1.05400706, -0.33396114],\n",
       "       [ 0.75913487,  0.32349507],\n",
       "       [-0.62395302,  0.56697355],\n",
       "       [ 0.23395884,  1.00680794],\n",
       "       [-0.28687554,  0.29930493],\n",
       "       [ 1.69373909,  0.14535225],\n",
       "       [ 1.21476272,  0.28693868],\n",
       "       [ 0.91599736,  0.45709001],\n",
       "       [ 1.08991244, -0.34918167],\n",
       "       [-1.04807876,  0.5611085 ],\n",
       "       [ 1.24945486, -0.81952291],\n",
       "       [ 0.91914824,  0.73078033],\n",
       "       [ 0.66549277,  0.75332069]])"
      ]
     },
     "execution_count": 84,
     "metadata": {},
     "output_type": "execute_result"
    }
   ],
   "source": [
    "from sklearn import datasets\n",
    "N = 300\n",
    "X, y  = datasets.make_moons(N,noise=0.3)\n",
    "X"
   ]
  },
  {
   "cell_type": "code",
   "execution_count": 85,
   "metadata": {},
   "outputs": [
    {
     "data": {
      "text/plain": [
       "<matplotlib.collections.PathCollection at 0x1b61c9e49e8>"
      ]
     },
     "execution_count": 85,
     "metadata": {},
     "output_type": "execute_result"
    },
    {
     "data": {
      "image/png": "[encoded data removed]",
      "text/plain": [
       "<matplotlib.figure.Figure at 0x1b61b9d9400>"
      ]
     },
     "metadata": {
      "needs_background": "light"
     },
     "output_type": "display_data"
    }
   ],
   "source": [
    "import matplotlib.pyplot as plt\n",
    "plt.scatter(X[:,0],X[:,1],c=y, alpha =0.3, cmap=\"autumn\")"
   ]
  },
  {
   "cell_type": "code",
   "execution_count": 86,
   "metadata": {},
   "outputs": [
    {
     "data": {
      "text/plain": [
       "((300, 2), (300,))"
      ]
     },
     "execution_count": 86,
     "metadata": {},
     "output_type": "execute_result"
    }
   ],
   "source": [
    "X.shape, y.shape"
   ]
  },
  {
   "cell_type": "code",
   "execution_count": 161,
   "metadata": {},
   "outputs": [
    {
     "name": "stderr",
     "output_type": "stream",
     "text": [
      "C:\\Users\\pj903\\Anaconda3\\lib\\site-packages\\sklearn\\model_selection\\_split.py:2026: FutureWarning: From version 0.21, test_size will always complement train_size unless both are specified.\n",
      "  FutureWarning)\n"
     ]
    },
    {
     "data": {
      "text/plain": [
       "(240, 2)"
      ]
     },
     "execution_count": 161,
     "metadata": {},
     "output_type": "execute_result"
    }
   ],
   "source": [
    "Y=y.reshape(N,1)\n",
    "#Y=y.reshape[N]\n",
    "from sklearn.model_selection import train_test_split\n",
    "X_train,X_test,Y_train,Y_test = train_test_split(X,Y,train_size=0.8)\n",
    "X_train.shape"
   ]
  },
  {
   "cell_type": "code",
   "execution_count": 162,
   "metadata": {},
   "outputs": [
    {
     "data": {
      "text/plain": [
       "(240, 2)"
      ]
     },
     "execution_count": 162,
     "metadata": {},
     "output_type": "execute_result"
    }
   ],
   "source": [
    "X_train.shape"
   ]
  },
  {
   "cell_type": "code",
   "execution_count": 163,
   "metadata": {},
   "outputs": [],
   "source": [
    "#xW1+b1\n",
    "num_hidden=3\n",
    "x=tf.placeholder(tf.float32,shape=[None,2])\n",
    "t=tf.placeholder(tf.float32,shape=[None,1])\n",
    "W1=tf.Variable(tf.random_normal([2,num_hidden],mean=0,stddev=1.0))\n",
    "b1=tf.Variable(tf.zeros([num_hidden]))\n",
    "z1=tf.matmul(x,W1) +b1\n",
    "a1=tf.nn.sigmoid(z1)"
   ]
  },
  {
   "cell_type": "code",
   "execution_count": 174,
   "metadata": {},
   "outputs": [],
   "source": [
    "W2=tf.Variable(tf.random_normal([num_hidden,1],mean=0,stddev=1.0))\n",
    "b2=tf.Variable(tf.zeros([1,1]))\n",
    "z2=tf.matmul(a1,W2) +b2\n",
    "a2=tf.nn.sigmoid(z2)\n",
    "cross_entropy=-tf.reduce_sum(t*tf.log(a2)+(1-t)*tf.log(1-a2))"
   ]
  },
  {
   "cell_type": "code",
   "execution_count": 175,
   "metadata": {},
   "outputs": [],
   "source": [
    "my_optimizer=tf.train.GradientDescentOptimizer(0.05)\n",
    "train_step=my_optimizer.minimize(cross_entropy)\n",
    "# Preparation for result\n",
    "correct_prediction= tf.equal(tf.to_float(tf.greater(a2,0.5)),t)\n",
    "my_prediction =tf.cast(tf.greater(a2,0.5),tf.float32)\n",
    "accuracy=tf.reduce_mean(tf.cast(correct_prediction,tf.float32))"
   ]
  },
  {
   "cell_type": "code",
   "execution_count": 176,
   "metadata": {},
   "outputs": [
    {
     "data": {
      "text/plain": [
       "15"
      ]
     },
     "execution_count": 176,
     "metadata": {},
     "output_type": "execute_result"
    }
   ],
   "source": [
    "batch_size=20\n",
    "n_batches = N // batch_size\n",
    "n_batches"
   ]
  },
  {
   "cell_type": "code",
   "execution_count": 177,
   "metadata": {},
   "outputs": [],
   "source": [
    "from sklearn.utils import shuffle"
   ]
  },
  {
   "cell_type": "code",
   "execution_count": 178,
   "metadata": {},
   "outputs": [],
   "source": [
    "init = tf.global_variables_initializer()\n",
    "sess = tf.Session()\n",
    "sess.run(init)\n",
    "for epoch in range(1000):\n",
    "    X_,Y_ = shuffle(X_train,Y_train)\n",
    "\n",
    "    for i in range(n_batches):\n",
    "        start = i*batch_size\n",
    "        end = start + batch_size\n",
    "        sess.run(train_step,feed_dict={\n",
    "            x: X_[start:end, :], t: Y_[start:end,:]\n",
    "        })"
   ]
  },
  {
   "cell_type": "code",
   "execution_count": 179,
   "metadata": {},
   "outputs": [
    {
     "data": {
      "text/plain": [
       "0.8666667"
      ]
     },
     "execution_count": 179,
     "metadata": {},
     "output_type": "execute_result"
    }
   ],
   "source": [
    "accuracy = accuracy.eval(session=sess, feed_dict={x:X_test,t:Y_test})\n",
    "accuracy"
   ]
  },
  {
   "cell_type": "code",
   "execution_count": 180,
   "metadata": {},
   "outputs": [],
   "source": [
    "tt = my_prediction.eval(session=sess, feed_dict={x: X_test, t: Y_test}) "
   ]
  },
  {
   "cell_type": "code",
   "execution_count": 181,
   "metadata": {},
   "outputs": [
    {
     "data": {
      "text/plain": [
       "(60, 1)"
      ]
     },
     "execution_count": 181,
     "metadata": {},
     "output_type": "execute_result"
    }
   ],
   "source": [
    "tt.shape"
   ]
  },
  {
   "cell_type": "code",
   "execution_count": 182,
   "metadata": {},
   "outputs": [
    {
     "data": {
      "text/plain": [
       "<matplotlib.collections.PathCollection at 0x1b61e49db00>"
      ]
     },
     "execution_count": 182,
     "metadata": {},
     "output_type": "execute_result"
    },
    {
     "data": {
      "image/png": "[encoded data removed]",
      "text/plain": [
       "<matplotlib.figure.Figure at 0x1b61d3a8fd0>"
      ]
     },
     "metadata": {
      "needs_background": "light"
     },
     "output_type": "display_data"
    }
   ],
   "source": [
    "plt.scatter(X[:,0],X[:,1], alpha =0.1, cmap=\"autumn\",c=y)\n",
    "plt.scatter(X_test[:,0],X_test[:,1], alpha =1, cmap=\"autumn\",c=tt.reshape((60)))"
   ]
  },
  {
   "cell_type": "code",
   "execution_count": null,
   "metadata": {},
   "outputs": [],
   "source": []
  }
 ],
 "metadata": {
  "kernelspec": {
   "display_name": "Python 3",
   "language": "python",
   "name": "python3"
  },
  "language_info": {
   "codemirror_mode": {
    "name": "ipython",
    "version": 3
   },
   "file_extension": ".py",
   "mimetype": "text/x-python",
   "name": "python",
   "nbconvert_exporter": "python",
   "pygments_lexer": "ipython3",
   "version": "3.6.5"
  }
 },
 "nbformat": 4,
 "nbformat_minor": 2
}
